{
  "nbformat": 4,
  "nbformat_minor": 0,
  "metadata": {
    "accelerator": "GPU",
    "colab": {
      "name": " CIFAR 10 in Keras.ipynb",
      "provenance": [],
      "collapsed_sections": [
        "AZ-4eVNLkBCw",
        "RuGmlm0KkBC9",
        "XC9w8poFkBDB"
      ],
      "include_colab_link": true
    },
    "kernelspec": {
      "name": "python3",
      "display_name": "Python 3"
    },
    "language_info": {
      "name": "python"
    }
  },
  "cells": [
    {
      "cell_type": "markdown",
      "metadata": {
        "id": "view-in-github",
        "colab_type": "text"
      },
      "source": [
        "<a href=\"https://colab.research.google.com/github/rahaveep/OPTIMIZERS-FOR-EVALUATION---COMPUTER-VISION/blob/main/CIFAR_10_in_Keras.ipynb\" target=\"_parent\"><img src=\"https://colab.research.google.com/assets/colab-badge.svg\" alt=\"Open In Colab\"/></a>"
      ]
    },
    {
      "cell_type": "code",
      "metadata": {
        "collapsed": true,
        "id": "cn4kmoMEkBB8"
      },
      "source": [
        "%matplotlib inline"
      ],
      "execution_count": null,
      "outputs": []
    },
    {
      "cell_type": "code",
      "metadata": {
        "id": "jgLiSIEJVsjA",
        "colab": {
          "base_uri": "https://localhost:8080/"
        },
        "outputId": "1c09ea5c-41c5-43b1-d632-c9fddf79b258"
      },
      "source": [
        "from google.colab import drive\n",
        "drive.mount('/content/drive')"
      ],
      "execution_count": null,
      "outputs": [
        {
          "output_type": "stream",
          "name": "stdout",
          "text": [
            "Drive already mounted at /content/drive; to attempt to forcibly remount, call drive.mount(\"/content/drive\", force_remount=True).\n"
          ]
        }
      ]
    },
    {
      "cell_type": "markdown",
      "metadata": {
        "id": "o_8jyy4kkBCB"
      },
      "source": [
        "# Introduction to Deep Learning with Keras and TensorFlow\n",
        "\n",
        "**Daniel Moser (UT Southwestern Medical Center)**\n",
        "\n",
        "**Resources: [Xavier Snelgrove](https://github.com/wxs/keras-mnist-tutorial), [Yash Katariya](https://github.com/yashk2810/MNIST-Keras)**"
      ]
    },
    {
      "cell_type": "markdown",
      "metadata": {
        "id": "nXjAnqp3kBCC"
      },
      "source": [
        "To help you understand the fundamentals of deep learning, this demo will walk through the basic steps of building two toy models for classifying handwritten numbers with accuracies surpassing 95%. The first model will be a basic fully-connected neural network, and the second model will be a deeper network that introduces the concepts of convolution and pooling."
      ]
    },
    {
      "cell_type": "markdown",
      "metadata": {
        "id": "PIcI9DlnkBCD"
      },
      "source": [
        "## The Task for the AI\n",
        "\n",
        "Our goal is to construct and train an artificial neural network on thousands of images of handwritten digits so that it may successfully identify others when presented. The data that will be incorporated is the MNIST database which contains 60,000 images for training and 10,000 test images. We will use the Keras Python API with TensorFlow as the backend."
      ]
    },
    {
      "cell_type": "markdown",
      "metadata": {
        "id": "CoD9dlCnkBCE"
      },
      "source": [
        "<img src=\"https://github.com/AviatorMoser/keras-mnist-tutorial/blob/master/mnist.png?raw=1\" >"
      ]
    },
    {
      "cell_type": "markdown",
      "metadata": {
        "id": "xzi0XSCIkBCG"
      },
      "source": [
        "## Prerequisite Python Modules\n",
        "\n",
        "First, some software needs to be loaded into the Python environment."
      ]
    },
    {
      "cell_type": "code",
      "metadata": {
        "id": "Uv9M21UAiTmg"
      },
      "source": [
        "import numpy as np # advanced math library \n",
        "import matplotlib.pyplot as plt # MATLAB like plotting routines \n",
        "import random # for generating random numbers \n",
        "import keras\n",
        "import time \n",
        "from keras.datasets import cifar10 # MNIST dataset is included in Keras \n",
        "from keras.models import Sequential # Model type to be used\n",
        "from keras.models import Sequential\n",
        "\n",
        "from keras.layers.core import Dense, Dropout, Activation # Types of layers to be used in our model \n",
        "from keras.utils import np_utils # NumPy related tools"
      ],
      "execution_count": null,
      "outputs": []
    },
    {
      "cell_type": "code",
      "metadata": {
        "id": "WxotFFgxtV-a"
      },
      "source": [
        "opt= 'RMSprop'"
      ],
      "execution_count": null,
      "outputs": []
    },
    {
      "cell_type": "markdown",
      "metadata": {
        "id": "t5RLtimwkBCI"
      },
      "source": [
        "import numpy as np                   # advanced math library\n",
        "import matplotlib.pyplot as plt      # MATLAB like plotting routines\n",
        "import random                        # for generating random numbers\n",
        "import keras\n",
        "from keras.datasets import mnist     # MNIST dataset is included in Keras\n",
        "from keras.models import Sequential  # Model type to be used\n",
        "\n",
        "from keras.layers.core import Dense, Dropout, Activation # Types of layers to be used in our model\n",
        "from keras.utils import np_utils                         # NumPy related tools"
      ]
    },
    {
      "cell_type": "markdown",
      "metadata": {
        "id": "lMNtB7hokBCJ"
      },
      "source": [
        "## Loading Training Data\n",
        "\n",
        "The MNIST dataset is conveniently bundled within Keras, and we can easily analyze some of its features in Python."
      ]
    },
    {
      "cell_type": "code",
      "metadata": {
        "colab": {
          "base_uri": "https://localhost:8080/"
        },
        "id": "hzqlvUAAkBCK",
        "outputId": "c6d8a607-f02e-40d1-9d65-71959694824a"
      },
      "source": [
        "# The MNIST data is split between 60,000 28 x 28 pixel training images and 10,000 28 x 28 pixel images\n",
        "#(X_trainMNIST, y_trainMNIST), (X_testMNIST, y_testMNIST) = mnist.load_data()\n",
        "#X, y = np.load(\"sub6_data.npy\"), np.load('label_data.npy')\n",
        "#from sklearn.model_selection import train_test_split\n",
        "#X_train, X_test, y_train, y_test = train_test_split(X, y, test_size=0.20, random_state=33)\n",
        "#print(\"X_train shape\", X_train.shape)\n",
        "#print(\"y_train shape\", y_train.shape)\n",
        "#print(\"X_test shape\", X_test.shape)\n",
        "#print(\"y_test shape\", y_test.shape)\n",
        "#print(y_test)\n",
        "(x_train, y_train), (x_test, y_test) = keras.datasets.cifar10.load_data()\n",
        "print(x_train.shape)\n",
        "print(x_test.shape)"
      ],
      "execution_count": null,
      "outputs": [
        {
          "output_type": "stream",
          "name": "stdout",
          "text": [
            "(50000, 32, 32, 3)\n",
            "(10000, 32, 32, 3)\n"
          ]
        }
      ]
    },
    {
      "cell_type": "markdown",
      "metadata": {
        "id": "OoF3Pr_lkBCM"
      },
      "source": [
        "Using matplotlib, we can plot some sample images from the training set directly into this Jupyter Notebook."
      ]
    },
    {
      "cell_type": "code",
      "metadata": {
        "id": "miO6djWIkBCN",
        "colab": {
          "base_uri": "https://localhost:8080/",
          "height": 657
        },
        "outputId": "7fffd8ed-d274-46f3-d56d-a0b6030d80bf"
      },
      "source": [
        "plt.rcParams['figure.figsize'] = (9,9) # Make the figures a bit bigger\n",
        "\n",
        "for i in range(9):\n",
        "    plt.subplot(3,3,i+1)\n",
        "    num = random.randint(0, len(x_test))\n",
        "    plt.imshow(x_test[num], cmap='gray', interpolation='none')\n",
        "    plt.title(\"Class {}\".format(y_test[num]))\n",
        "    \n",
        "plt.tight_layout()"
      ],
      "execution_count": null,
      "outputs": [
        {
          "output_type": "display_data",
          "data": {
            "image/png": "[encoded data removed]",
            "text/plain": [
              "<Figure size 648x648 with 9 Axes>"
            ]
          },
          "metadata": {
            "needs_background": "light"
          }
        }
      ]
    },
    {
      "cell_type": "markdown",
      "metadata": {
        "id": "V5LOS5s-kBCO"
      },
      "source": [
        "Let's examine a single digit a little closer, and print out the array representing the last digit."
      ]
    },
    {
      "cell_type": "code",
      "metadata": {
        "id": "e058QN9fkBCO"
      },
      "source": [
        "# just a little function for pretty printing a matrix\n",
        "def matprint(mat, fmt=\"g\"):\n",
        "    col_maxes = [max([len((\"{:\"+fmt+\"}\").format(x)) for x in col]) for col in mat.T]\n",
        "    for x in mat:\n",
        "        for i, y in enumerate(x):\n",
        "            print((\"{:\"+str(col_maxes[i])+fmt+\"}\").format(y), end=\"  \")\n",
        "        print(\"\")\n",
        "\n",
        "# now print!        "
      ],
      "execution_count": null,
      "outputs": []
    },
    {
      "cell_type": "markdown",
      "metadata": {
        "id": "v1PpInQTkBCP"
      },
      "source": [
        "Each pixel is an 8-bit integer from 0-255. 0 is full black, while 255 is full white. This what we call a single-channel pixel. It's called monochrome.\n",
        "\n",
        "*Fun-fact! Your computer screen has three channels for each pixel: red, green, blue. Each of these channels also likely takes an 8-bit integer. 3 channels -- 24 bits total -- 16,777,216 possible colors!*"
      ]
    },
    {
      "cell_type": "markdown",
      "metadata": {
        "id": "v5e6jVnekBCQ"
      },
      "source": [
        "## Formatting the input data layer\n",
        "\n",
        "Instead of a 28 x 28 matrix, we build our network to accept a 784-length vector.\n",
        "\n",
        "Each image needs to be then reshaped (or flattened) into a vector. We'll also normalize the inputs to be in the range [0-1] rather than [0-255]. Normalizing inputs is generally recommended, so that any additional dimensions (for other network architectures) are of the same scale."
      ]
    },
    {
      "cell_type": "markdown",
      "metadata": {
        "id": "3jF6d71QkBCR"
      },
      "source": [
        "<img src='https://github.com/AviatorMoser/keras-mnist-tutorial/blob/master/flatten.png?raw=1' >"
      ]
    },
    {
      "cell_type": "code",
      "metadata": {
        "colab": {
          "base_uri": "https://localhost:8080/"
        },
        "id": "qENpxHbYkBCS",
        "outputId": "96845b8c-71a9-48a6-a81b-2117d617aec1"
      },
      "source": [
        "\n",
        "X_train = x_train.reshape(50000, 3072) # reshape 60,000 28 x 28 matrices into 60,000 784-length vectors.\n",
        "X_test = x_test.reshape(10000, 3072)   # reshape 10,000 28 x 28 matrices into 10,000 784-length vectors.\n",
        "\n",
        "X_train = X_train.astype('float32')   # change integers to 32-bit floating point numbers\n",
        "X_test = X_test.astype('float32')\n",
        "\n",
        "X_train /= 255                        # normalize each value for each pixel for the entire vector for each input\n",
        "X_test /= 255\n",
        "print(\"Training matrix shape\", X_train.shape)\n",
        "print(\"Testing matrix shape\", X_test.shape)\n"
      ],
      "execution_count": null,
      "outputs": [
        {
          "output_type": "stream",
          "name": "stdout",
          "text": [
            "Training matrix shape (50000, 3072)\n",
            "Testing matrix shape (10000, 3072)\n"
          ]
        }
      ]
    },
    {
      "cell_type": "markdown",
      "metadata": {
        "id": "keCSBZYJkBCU"
      },
      "source": [
        "We then modify our classes (unique digits) to be in the one-hot format, i.e.\n",
        "\n",
        "```\n",
        "0 -> [1, 0, 0, 0, 0, 0, 0, 0, 0]\n",
        "1 -> [0, 1, 0, 0, 0, 0, 0, 0, 0]\n",
        "2 -> [0, 0, 1, 0, 0, 0, 0, 0, 0]\n",
        "etc.\n",
        "```\n",
        "\n",
        "If the final output of our network is very close to one of these classes, then it is most likely that class. For example, if the final output is:\n",
        "\n",
        "```\n",
        "[0, 0.94, 0, 0, 0, 0, 0.06, 0, 0]\n",
        "```\n",
        "then it is most probable that the image is that of the digit `1`."
      ]
    },
    {
      "cell_type": "code",
      "metadata": {
        "colab": {
          "base_uri": "https://localhost:8080/"
        },
        "collapsed": true,
        "id": "okJCK8jUkBCW",
        "outputId": "7a1f5d22-4156-4b82-9d72-fc760ab65791"
      },
      "source": [
        "nb_classes = 10 # number of unique digits\n",
        "from keras.utils import np_utils\n",
        "Y_train = np_utils.to_categorical(y_train)\n",
        "Y_test = np_utils.to_categorical(y_test)\n",
        "print(Y_test)"
      ],
      "execution_count": null,
      "outputs": [
        {
          "output_type": "stream",
          "name": "stdout",
          "text": [
            "[[0. 0. 0. ... 0. 0. 0.]\n",
            " [0. 0. 0. ... 0. 1. 0.]\n",
            " [0. 0. 0. ... 0. 1. 0.]\n",
            " ...\n",
            " [0. 0. 0. ... 0. 0. 0.]\n",
            " [0. 1. 0. ... 0. 0. 0.]\n",
            " [0. 0. 0. ... 1. 0. 0.]]\n"
          ]
        }
      ]
    },
    {
      "cell_type": "markdown",
      "metadata": {
        "id": "iidbtjmLkBCW"
      },
      "source": [
        "# Building a 3-layer fully connected network (FCN)\n",
        "\n",
        "<img src=\"https://github.com/AviatorMoser/keras-mnist-tutorial/blob/master/figure.png?raw=1\" />"
      ]
    },
    {
      "cell_type": "code",
      "metadata": {
        "collapsed": true,
        "id": "9H6ZqF4wkBCY"
      },
      "source": [
        "# The Sequential model is a linear stack of layers and is very common.\n",
        "\n",
        "model = Sequential()"
      ],
      "execution_count": null,
      "outputs": []
    },
    {
      "cell_type": "markdown",
      "metadata": {
        "id": "tz_zZlzvkBCZ"
      },
      "source": [
        "## The first hidden layer"
      ]
    },
    {
      "cell_type": "code",
      "metadata": {
        "collapsed": true,
        "id": "XqpZZ8IukBCa"
      },
      "source": [
        "\n",
        "# The first hidden layer is a set of 512 nodes (artificial neurons).\n",
        "# Each node will receive an element from each input vector and apply some weight and bias to it.\n",
        "\n",
        "model.add(Dense(512, input_shape=(3072,))) #(784,) is not a typo -- that represents a 784 length vector!"
      ],
      "execution_count": null,
      "outputs": []
    },
    {
      "cell_type": "code",
      "metadata": {
        "collapsed": true,
        "id": "fF5wzBk7kBCb"
      },
      "source": [
        "# An \"activation\" is a non-linear function applied to the output of the layer above.\n",
        "# It checks the new value of the node, and decides whether that artifical neuron has fired.\n",
        "# The Rectified Linear Unit (ReLU) converts all negative inputs to nodes in the next layer to be zero.\n",
        "# Those inputs are then not considered to be fired.\n",
        "# Positive values of a node are unchanged.\n",
        "\n",
        "model.add(Activation('relu'))   #other option relu"
      ],
      "execution_count": null,
      "outputs": []
    },
    {
      "cell_type": "markdown",
      "metadata": {
        "id": "Btu1I3YKkBCb"
      },
      "source": [
        "\n",
        "\n",
        "\n",
        "$$f(x) = max (0,x)$$\n",
        "<img src = 'relu.jpg' >"
      ]
    },
    {
      "cell_type": "code",
      "metadata": {
        "collapsed": true,
        "id": "85C48YuxkBCc"
      },
      "source": [
        "\n",
        "\n",
        "# Dropout zeroes a selection of random outputs (i.e., disables their activation)\n",
        "# Dropout helps protect the model from memorizing or \"overfitting\" the training data.\n",
        "model.add(Dropout(0.5))"
      ],
      "execution_count": null,
      "outputs": []
    },
    {
      "cell_type": "markdown",
      "metadata": {
        "id": "M6JeaDR6kBCd"
      },
      "source": [
        "\n",
        "\n",
        "\n",
        "\n",
        "## Adding the second hidden layer"
      ]
    },
    {
      "cell_type": "code",
      "metadata": {
        "collapsed": true,
        "id": "s6afoG6ckBCd"
      },
      "source": [
        "# The second hidden layer appears identical to our first layer.\n",
        "# However, instead of each of the 512-node receiving 784-inputs from the input image data,\n",
        "# they receive 512 inputs from the output of the first 512-node layer.\n",
        "\n",
        "model.add(Dense(512))\n",
        "model.add(Activation('relu'))\n",
        "model.add(Dropout(0.5))"
      ],
      "execution_count": null,
      "outputs": []
    },
    {
      "cell_type": "markdown",
      "metadata": {
        "id": "sQPn4O1jkBCe"
      },
      "source": [
        "\n",
        "## The Final Output Layer"
      ]
    },
    {
      "cell_type": "code",
      "metadata": {
        "collapsed": true,
        "id": "X4DsH8XhkBCe"
      },
      "source": [
        "\n",
        "\n",
        "\n",
        "# The final layer of 10 neurons in fully-connected to the previous 512-node layer.\n",
        "# The final layer of a FCN should be equal to the number of desired classes (10 in this case).\n",
        "model.add(Dense(10))"
      ],
      "execution_count": null,
      "outputs": []
    },
    {
      "cell_type": "code",
      "metadata": {
        "collapsed": true,
        "id": "R-cbCJgCkBCf"
      },
      "source": [
        "\n",
        "\n",
        "\n",
        "# The \"softmax\" activation represents a probability distribution over K different possible outcomes.\n",
        "# Its values are all non-negative and sum to 1.\n",
        "\n",
        "model.add(Activation('softmax'))"
      ],
      "execution_count": null,
      "outputs": []
    },
    {
      "cell_type": "code",
      "metadata": {
        "colab": {
          "base_uri": "https://localhost:8080/"
        },
        "id": "Y2KIyvHhkBCf",
        "outputId": "8c6d43a5-d57d-4933-b1ed-c14928e22491"
      },
      "source": [
        "# Summarize the built model\n",
        "\n",
        "model.summary()"
      ],
      "execution_count": null,
      "outputs": [
        {
          "output_type": "stream",
          "name": "stdout",
          "text": [
            "Model: \"sequential_12\"\n",
            "_________________________________________________________________\n",
            "Layer (type)                 Output Shape              Param #   \n",
            "=================================================================\n",
            "dense_41 (Dense)             (None, 512)               1573376   \n",
            "_________________________________________________________________\n",
            "activation_39 (Activation)   (None, 512)               0         \n",
            "_________________________________________________________________\n",
            "dropout_27 (Dropout)         (None, 512)               0         \n",
            "_________________________________________________________________\n",
            "dense_42 (Dense)             (None, 512)               262656    \n",
            "_________________________________________________________________\n",
            "activation_40 (Activation)   (None, 512)               0         \n",
            "_________________________________________________________________\n",
            "dropout_28 (Dropout)         (None, 512)               0         \n",
            "_________________________________________________________________\n",
            "dense_43 (Dense)             (None, 10)                5130      \n",
            "_________________________________________________________________\n",
            "activation_41 (Activation)   (None, 10)                0         \n",
            "=================================================================\n",
            "Total params: 1,841,162\n",
            "Trainable params: 1,841,162\n",
            "Non-trainable params: 0\n",
            "_________________________________________________________________\n"
          ]
        }
      ]
    },
    {
      "cell_type": "markdown",
      "metadata": {
        "id": "ceU6gVWHkBCg"
      },
      "source": [
        "## Compiling the model\n",
        "\n",
        "Keras is built on top of Theano and TensorFlow. Both packages allow you to define a *computation graph* in Python, which then compiles and runs efficiently on the CPU or GPU without the overhead of the Python interpreter.\n",
        "\n",
        "When compiing a model, Keras asks you to specify your **loss function** and your **optimizer**. The loss function we'll use here is called *categorical cross-entropy*, and is a loss function well-suited to comparing two probability distributions.\n",
        "\n",
        "Our predictions are probability distributions across the ten different digits (e.g. \"we're 80% confident this image is a 3, 10% sure it's an 8, 5% it's a 2, etc.\"), and the target is a probability distribution with 100% for the correct category, and 0 for everything else. The cross-entropy is a measure of how different your predicted distribution is from the target distribution. [More detail at Wikipedia](https://en.wikipedia.org/wiki/Cross_entropy)\n",
        "\n",
        "The optimizer helps determine how quickly the model learns through **gradient descent**. The rate at which descends a gradient is called the **learning rate**."
      ]
    },
    {
      "cell_type": "markdown",
      "metadata": {
        "id": "qqFBVu_qkBCh"
      },
      "source": [
        "<img src = \"gradient_descent.png\" >"
      ]
    },
    {
      "cell_type": "markdown",
      "metadata": {
        "id": "0nOSnSJIkBCh"
      },
      "source": [
        "<img src = \"learning_rate.png\" >"
      ]
    },
    {
      "cell_type": "markdown",
      "metadata": {
        "id": "fAfLcxIxkBCi"
      },
      "source": [
        "So are smaller learning rates better? Not quite! It's important for an optimizer not to get stuck in local minima while neglecting the global minimum of the loss function. Sometimes that means trying a larger learning rate to jump out of a local minimum."
      ]
    },
    {
      "cell_type": "markdown",
      "metadata": {
        "id": "0Zj23D_XkBCi"
      },
      "source": [
        "<img src = 'complicated_loss_function.png' >"
      ]
    },
    {
      "cell_type": "code",
      "metadata": {
        "collapsed": true,
        "id": "jngj3oS1kBCj"
      },
      "source": [
        "\n",
        "# Let's use the Adam optimizer for learning\n",
        "model.compile(loss='categorical_crossentropy', optimizer=opt, metrics=['accuracy'])\n",
        "#model.compile(loss='mean_squared_error', optimizer='adam', metrics=['accuracy'])"
      ],
      "execution_count": null,
      "outputs": []
    },
    {
      "cell_type": "code",
      "metadata": {
        "colab": {
          "base_uri": "https://localhost:8080/"
        },
        "id": "aLmhmE-ZXplG",
        "outputId": "b99f3651-81fa-4ca1-ae94-f279d2119b26"
      },
      "source": [
        "\n",
        "\n",
        "\n",
        "import time\n",
        "starttime=time.time()\n",
        "history = model.fit(X_train, Y_train,\n",
        "          batch_size=125, epochs=50,#128 to 60000\n",
        "                            verbose=2,\n",
        "                            callbacks = [keras.callbacks.ModelCheckpoint( './', monitor='val_loss', verbose=0, save_best_only=True, mode='auto')])\n",
        "\n",
        "endtime=time.time()\n",
        "time=endtime-starttime\n",
        "print (time)"
      ],
      "execution_count": null,
      "outputs": [
        {
          "output_type": "stream",
          "name": "stdout",
          "text": [
            "Epoch 1/50\n",
            "400/400 - 2s - loss: 2.1963 - accuracy: 0.1956\n",
            "WARNING:tensorflow:Can save best model only with val_loss available, skipping.\n",
            "Epoch 2/50\n",
            "400/400 - 1s - loss: 2.0155 - accuracy: 0.2487\n",
            "WARNING:tensorflow:Can save best model only with val_loss available, skipping.\n",
            "Epoch 3/50\n",
            "400/400 - 1s - loss: 1.9687 - accuracy: 0.2744\n",
            "WARNING:tensorflow:Can save best model only with val_loss available, skipping.\n",
            "Epoch 4/50\n",
            "400/400 - 1s - loss: 1.9422 - accuracy: 0.2847\n",
            "WARNING:tensorflow:Can save best model only with val_loss available, skipping.\n",
            "Epoch 5/50\n",
            "400/400 - 1s - loss: 1.9184 - accuracy: 0.2977\n",
            "WARNING:tensorflow:Can save best model only with val_loss available, skipping.\n",
            "Epoch 6/50\n",
            "400/400 - 1s - loss: 1.9029 - accuracy: 0.3008\n",
            "WARNING:tensorflow:Can save best model only with val_loss available, skipping.\n",
            "Epoch 7/50\n",
            "400/400 - 1s - loss: 1.8886 - accuracy: 0.3059\n",
            "WARNING:tensorflow:Can save best model only with val_loss available, skipping.\n",
            "Epoch 8/50\n",
            "400/400 - 1s - loss: 1.8821 - accuracy: 0.3108\n",
            "WARNING:tensorflow:Can save best model only with val_loss available, skipping.\n",
            "Epoch 9/50\n",
            "400/400 - 1s - loss: 1.8692 - accuracy: 0.3172\n",
            "WARNING:tensorflow:Can save best model only with val_loss available, skipping.\n",
            "Epoch 10/50\n",
            "400/400 - 1s - loss: 1.8588 - accuracy: 0.3202\n",
            "WARNING:tensorflow:Can save best model only with val_loss available, skipping.\n",
            "Epoch 11/50\n",
            "400/400 - 1s - loss: 1.8554 - accuracy: 0.3245\n",
            "WARNING:tensorflow:Can save best model only with val_loss available, skipping.\n",
            "Epoch 12/50\n",
            "400/400 - 1s - loss: 1.8487 - accuracy: 0.3235\n",
            "WARNING:tensorflow:Can save best model only with val_loss available, skipping.\n",
            "Epoch 13/50\n",
            "400/400 - 1s - loss: 1.8442 - accuracy: 0.3298\n",
            "WARNING:tensorflow:Can save best model only with val_loss available, skipping.\n",
            "Epoch 14/50\n",
            "400/400 - 1s - loss: 1.8441 - accuracy: 0.3293\n",
            "WARNING:tensorflow:Can save best model only with val_loss available, skipping.\n",
            "Epoch 15/50\n",
            "400/400 - 1s - loss: 1.8391 - accuracy: 0.3301\n",
            "WARNING:tensorflow:Can save best model only with val_loss available, skipping.\n",
            "Epoch 16/50\n",
            "400/400 - 1s - loss: 1.8353 - accuracy: 0.3330\n",
            "WARNING:tensorflow:Can save best model only with val_loss available, skipping.\n",
            "Epoch 17/50\n",
            "400/400 - 1s - loss: 1.8294 - accuracy: 0.3321\n",
            "WARNING:tensorflow:Can save best model only with val_loss available, skipping.\n",
            "Epoch 18/50\n",
            "400/400 - 1s - loss: 1.8284 - accuracy: 0.3364\n",
            "WARNING:tensorflow:Can save best model only with val_loss available, skipping.\n",
            "Epoch 19/50\n",
            "400/400 - 1s - loss: 1.8254 - accuracy: 0.3372\n",
            "WARNING:tensorflow:Can save best model only with val_loss available, skipping.\n",
            "Epoch 20/50\n",
            "400/400 - 1s - loss: 1.8253 - accuracy: 0.3373\n",
            "WARNING:tensorflow:Can save best model only with val_loss available, skipping.\n",
            "Epoch 21/50\n",
            "400/400 - 1s - loss: 1.8223 - accuracy: 0.3350\n",
            "WARNING:tensorflow:Can save best model only with val_loss available, skipping.\n",
            "Epoch 22/50\n",
            "400/400 - 1s - loss: 1.8268 - accuracy: 0.3351\n",
            "WARNING:tensorflow:Can save best model only with val_loss available, skipping.\n",
            "Epoch 23/50\n",
            "400/400 - 1s - loss: 1.8224 - accuracy: 0.3375\n",
            "WARNING:tensorflow:Can save best model only with val_loss available, skipping.\n",
            "Epoch 24/50\n",
            "400/400 - 1s - loss: 1.8164 - accuracy: 0.3409\n",
            "WARNING:tensorflow:Can save best model only with val_loss available, skipping.\n",
            "Epoch 25/50\n",
            "400/400 - 1s - loss: 1.8194 - accuracy: 0.3406\n",
            "WARNING:tensorflow:Can save best model only with val_loss available, skipping.\n",
            "Epoch 26/50\n",
            "400/400 - 1s - loss: 1.8184 - accuracy: 0.3395\n",
            "WARNING:tensorflow:Can save best model only with val_loss available, skipping.\n",
            "Epoch 27/50\n",
            "400/400 - 1s - loss: 1.8173 - accuracy: 0.3408\n",
            "WARNING:tensorflow:Can save best model only with val_loss available, skipping.\n",
            "Epoch 28/50\n",
            "400/400 - 1s - loss: 1.8198 - accuracy: 0.3406\n",
            "WARNING:tensorflow:Can save best model only with val_loss available, skipping.\n",
            "Epoch 29/50\n",
            "400/400 - 1s - loss: 1.8155 - accuracy: 0.3419\n",
            "WARNING:tensorflow:Can save best model only with val_loss available, skipping.\n",
            "Epoch 30/50\n",
            "400/400 - 1s - loss: 1.8111 - accuracy: 0.3439\n",
            "WARNING:tensorflow:Can save best model only with val_loss available, skipping.\n",
            "Epoch 31/50\n",
            "400/400 - 1s - loss: 1.8194 - accuracy: 0.3410\n",
            "WARNING:tensorflow:Can save best model only with val_loss available, skipping.\n",
            "Epoch 32/50\n",
            "400/400 - 1s - loss: 1.8170 - accuracy: 0.3400\n",
            "WARNING:tensorflow:Can save best model only with val_loss available, skipping.\n",
            "Epoch 33/50\n",
            "400/400 - 1s - loss: 1.8207 - accuracy: 0.3429\n",
            "WARNING:tensorflow:Can save best model only with val_loss available, skipping.\n",
            "Epoch 34/50\n",
            "400/400 - 1s - loss: 1.8230 - accuracy: 0.3395\n",
            "WARNING:tensorflow:Can save best model only with val_loss available, skipping.\n",
            "Epoch 35/50\n",
            "400/400 - 1s - loss: 1.8140 - accuracy: 0.3439\n",
            "WARNING:tensorflow:Can save best model only with val_loss available, skipping.\n",
            "Epoch 36/50\n",
            "400/400 - 1s - loss: 1.8155 - accuracy: 0.3452\n",
            "WARNING:tensorflow:Can save best model only with val_loss available, skipping.\n",
            "Epoch 37/50\n",
            "400/400 - 1s - loss: 1.8163 - accuracy: 0.3426\n",
            "WARNING:tensorflow:Can save best model only with val_loss available, skipping.\n",
            "Epoch 38/50\n",
            "400/400 - 1s - loss: 1.8164 - accuracy: 0.3407\n",
            "WARNING:tensorflow:Can save best model only with val_loss available, skipping.\n",
            "Epoch 39/50\n",
            "400/400 - 1s - loss: 1.8185 - accuracy: 0.3413\n",
            "WARNING:tensorflow:Can save best model only with val_loss available, skipping.\n",
            "Epoch 40/50\n",
            "400/400 - 1s - loss: 1.8184 - accuracy: 0.3420\n",
            "WARNING:tensorflow:Can save best model only with val_loss available, skipping.\n",
            "Epoch 41/50\n",
            "400/400 - 1s - loss: 1.8211 - accuracy: 0.3407\n",
            "WARNING:tensorflow:Can save best model only with val_loss available, skipping.\n",
            "Epoch 42/50\n",
            "400/400 - 1s - loss: 1.8131 - accuracy: 0.3421\n",
            "WARNING:tensorflow:Can save best model only with val_loss available, skipping.\n",
            "Epoch 43/50\n",
            "400/400 - 1s - loss: 1.8220 - accuracy: 0.3435\n",
            "WARNING:tensorflow:Can save best model only with val_loss available, skipping.\n",
            "Epoch 44/50\n",
            "400/400 - 1s - loss: 1.8240 - accuracy: 0.3412\n",
            "WARNING:tensorflow:Can save best model only with val_loss available, skipping.\n",
            "Epoch 45/50\n",
            "400/400 - 1s - loss: 1.8202 - accuracy: 0.3418\n",
            "WARNING:tensorflow:Can save best model only with val_loss available, skipping.\n",
            "Epoch 46/50\n",
            "400/400 - 1s - loss: 1.8223 - accuracy: 0.3413\n",
            "WARNING:tensorflow:Can save best model only with val_loss available, skipping.\n",
            "Epoch 47/50\n",
            "400/400 - 1s - loss: 1.8165 - accuracy: 0.3436\n",
            "WARNING:tensorflow:Can save best model only with val_loss available, skipping.\n",
            "Epoch 48/50\n",
            "400/400 - 1s - loss: 1.8149 - accuracy: 0.3445\n",
            "WARNING:tensorflow:Can save best model only with val_loss available, skipping.\n",
            "Epoch 49/50\n",
            "400/400 - 1s - loss: 1.8190 - accuracy: 0.3415\n",
            "WARNING:tensorflow:Can save best model only with val_loss available, skipping.\n",
            "Epoch 50/50\n",
            "400/400 - 1s - loss: 1.8154 - accuracy: 0.3444\n",
            "WARNING:tensorflow:Can save best model only with val_loss available, skipping.\n",
            "82.79439043998718\n"
          ]
        }
      ]
    },
    {
      "cell_type": "code",
      "metadata": {
        "colab": {
          "base_uri": "https://localhost:8080/",
          "height": 551
        },
        "id": "H_AIQrsmY7I8",
        "outputId": "b544f8ea-1416-4c88-8afe-753354901219"
      },
      "source": [
        "#plt.plot(history.history['loss'], label='Training Loss')\n",
        "plt.plot(history.history['accuracy'], label='Accuracy')\n",
        "plt.legend()\n",
        "plt.xlabel('Epochs')\n",
        "plt.ylabel('Accuracy')\n",
        "plt.savefig('model_training_history')\n",
        "plt.show()"
      ],
      "execution_count": null,
      "outputs": [
        {
          "output_type": "display_data",
          "data": {
            "image/png": "[encoded data removed]",
            "text/plain": [
              "<Figure size 648x648 with 1 Axes>"
            ]
          },
          "metadata": {
            "needs_background": "light"
          }
        }
      ]
    },
    {
      "cell_type": "code",
      "metadata": {
        "colab": {
          "base_uri": "https://localhost:8080/",
          "height": 551
        },
        "id": "w01LfAwxzC8M",
        "outputId": "c30ae3d6-83f2-46d9-a41d-1a96100d1add"
      },
      "source": [
        "plt.plot(history.history['loss'], label='Training Loss')\n",
        "#plt.plot(history.history['accuracy'], label='Accuracy')\n",
        "plt.legend()\n",
        "plt.xlabel('Epochs')\n",
        "plt.ylabel('MSE')\n",
        "plt.savefig('model_training_history')\n",
        "plt.show()"
      ],
      "execution_count": null,
      "outputs": [
        {
          "output_type": "display_data",
          "data": {
            "image/png": "[encoded data removed]",
            "text/plain": [
              "<Figure size 648x648 with 1 Axes>"
            ]
          },
          "metadata": {
            "needs_background": "light"
          }
        }
      ]
    },
    {
      "cell_type": "markdown",
      "metadata": {
        "id": "ptnWF9S-kBCj"
      },
      "source": [
        "## Train the model!\n",
        "This is the fun part! "
      ]
    },
    {
      "cell_type": "markdown",
      "metadata": {
        "id": "RiHWovRskBCk"
      },
      "source": [
        "The batch size determines over how much data per step is used to compute the loss function, gradients, and back propagation. Large batch sizes allow the network to complete it's training faster; however, there are other factors beyond training speed to consider.\n",
        "\n",
        "Too large of a batch size smoothes the local minima of the loss function, causing the optimizer to settle in one because it thinks it found the global minimum.\n",
        "\n",
        "Too small of a batch size creates a very noisy loss function, and the optimizer may never find the global minimum.\n",
        "\n",
        "So a good batch size may take some trial and error to find!"
      ]
    },
    {
      "cell_type": "code",
      "metadata": {
        "id": "Ki9rw6LzkBCl",
        "colab": {
          "base_uri": "https://localhost:8080/"
        },
        "outputId": "76655755-e342-4f51-e735-19c347331ff5"
      },
      "source": [
        "\n",
        "model.fit(X_train, Y_train,\n",
        "          batch_size=125, epochs=5,#128 to 60000\n",
        "          verbose=1)"
      ],
      "execution_count": null,
      "outputs": [
        {
          "output_type": "stream",
          "name": "stdout",
          "text": [
            "Epoch 1/5\n",
            "400/400 [==============================] - 2s 4ms/step - loss: 1.4409 - accuracy: 0.4890\n",
            "Epoch 2/5\n",
            "400/400 [==============================] - 2s 5ms/step - loss: 1.4318 - accuracy: 0.4920\n",
            "Epoch 3/5\n",
            "400/400 [==============================] - 2s 5ms/step - loss: 1.4345 - accuracy: 0.4922\n",
            "Epoch 4/5\n",
            "400/400 [==============================] - 2s 5ms/step - loss: 1.4246 - accuracy: 0.4938\n",
            "Epoch 5/5\n",
            "400/400 [==============================] - 2s 5ms/step - loss: 1.4279 - accuracy: 0.4917\n"
          ]
        },
        {
          "output_type": "execute_result",
          "data": {
            "text/plain": [
              "<keras.callbacks.History at 0x7fc835c30ad0>"
            ]
          },
          "metadata": {},
          "execution_count": 228
        }
      ]
    },
    {
      "cell_type": "markdown",
      "metadata": {
        "id": "hvaCgDy4kBCm"
      },
      "source": [
        "The two numbers, in order, represent the value of the loss function of the network on the training set, and the overall accuracy of the network on the training data. But how does it do on data it did not train on?"
      ]
    },
    {
      "cell_type": "markdown",
      "metadata": {
        "id": "TdaoovZjkBCm"
      },
      "source": [
        "## Evaluate Model's Accuracy on Test Data"
      ]
    },
    {
      "cell_type": "code",
      "metadata": {
        "colab": {
          "base_uri": "https://localhost:8080/"
        },
        "id": "8MbCh3epkBCn",
        "outputId": "ed8137be-ad04-45d8-9089-3ae1ef0d1eab"
      },
      "source": [
        "score = model.evaluate(X_test, Y_test)\n",
        "print('Test score:', score[0])\n",
        "print('Test accuracy:', score[1])"
      ],
      "execution_count": null,
      "outputs": [
        {
          "output_type": "stream",
          "name": "stdout",
          "text": [
            "313/313 [==============================] - 1s 4ms/step - loss: 1.7847 - accuracy: 0.3943\n",
            "Test score: 1.7846921682357788\n",
            "Test accuracy: 0.39430001378059387\n"
          ]
        }
      ]
    },
    {
      "cell_type": "markdown",
      "metadata": {
        "id": "8OWL5FNXkBCo"
      },
      "source": [
        "### Inspecting the output\n",
        "\n",
        "It's always a good idea to inspect the output and make sure everything looks sane. Here we'll look at some examples it gets right, and some examples it gets wrong."
      ]
    },
    {
      "cell_type": "code",
      "metadata": {
        "colab": {
          "base_uri": "https://localhost:8080/"
        },
        "collapsed": true,
        "id": "4xaJc_f_kBCp",
        "outputId": "7a3ab212-eec9-4848-dd08-715f763d453b"
      },
      "source": [
        "# The predict_classes function outputs the highest probability class\n",
        "# according to the trained classifier for each input example.\n",
        "predicted_classes = np.argmax(model.predict(X_test),axis=1)#model.predict(X_test)\n",
        "#print(Y_test)\n",
        "new_Y_test = np.argmax(Y_test,axis=1)\n",
        "print(predicted_classes)\n",
        "print(new_Y_test)\n",
        "# Check which items we got right / wrong\n",
        "correct_indices = np.nonzero(predicted_classes == y_test)[0]\n",
        "#print(correct_indices)\n",
        "incorrect_indices = np.nonzero(predicted_classes != y_test)[0]"
      ],
      "execution_count": null,
      "outputs": [
        {
          "name": "stdout",
          "output_type": "stream",
          "text": [
            "[3 0 0 2 1 2 2 2 1 2 3 0 3 1 0 2 3 3 3 2 0 3 0 3 3 0 1 1 2 2 3 1 2 0 0 3 1\n",
            " 2 3 2 2 1 0 2 1 1 1 3 1 2 2 0 3 2 3 3 0 1 1 3 2 1 1 0 0 2 2 0 1 0 1 0 2 3\n",
            " 3 2 0 1 3 0 0 3 1 1 3 2 1 3 1 0 2 2 0 0 2 0 3 0 0 3 2 2 1 0 3 2 2 3 3 3 1\n",
            " 1 1 0 1 2 0 0 1 0 1 1 0 3 0 3 0 3 1 1 3 3 1 3 2 1 1 2 0 2 1 2 0 3 0 0 0 0\n",
            " 1 3 0 3 1 1 2 3 3 0 0 2 2 3 0 3 3 1 3 0 3 1 2 2 2 3 1 3 0 1 1 0 0 3 1 0 2\n",
            " 3 0 2 2 0 1 3 3 3 0 0 3 2 2 0 0 2 3 2 3 1 1 1 3 3 1 0 2 2 2 0 3 2 3 3 1 3\n",
            " 1 3 3 2 1 1 2 1 0 0 0 2 3 2 3 3 2 2 1 3 3 1 0 0 2 3 2 0 0 2 0 3 2 0 0 3 1\n",
            " 2 1 0 1 0 2 1 3 3 2 2 3 1 2 1 1 2 1 0 2 2 3 3 0 0 3 3 0 0 1 3 3 2 3 0 0 1\n",
            " 2 1 0 1 3 1 2 1 1 0 0 3 3 3 3 2 3 0 0 1 0 3 3 0 3 2 2 3 0 2 0 2 0 3 3 1 0\n",
            " 0 3 1 1 3 1 0 0 2 0 1 1 1 0 3 2 0 0 0 2 0 0 3 3 0 2 0 2 2 2 3 0 0 2 3 0 1\n",
            " 3 2 2 2 1 0 1 2 1 1 2 0 0 1 0 3 0 0 0 3 3 3 0 0 2 0 1 2 3 2 2 2 2 1 2 2 2\n",
            " 2 0 1 2 3 0 2 1 1 0 1 2 3 0 3 2 1 1 0 0 1 0 3 1 0 3 3 0 2 0 1 0 0 3 1 3 1\n",
            " 2 2 2 1 2 0 3 3 3 1 0 0 0 3 1 3 3 3 3 0 3 0 0 1 0 2 0 2 2 1 0 1 2 0 2 2 1\n",
            " 1 1 2 3 1 3 3 1 3 0 1 0 3 2 2 1 2 1 3 1 3 0 3 0 3 0 0 2 2 1 3 2 0 2 3]\n",
            "[3 0 0 2 1 2 2 2 1 2 3 0 3 1 0 2 3 3 3 2 0 3 0 3 3 0 1 1 2 2 3 1 2 0 0 3 1\n",
            " 2 3 2 2 1 0 2 1 1 1 3 1 2 2 0 3 2 3 3 0 1 1 3 2 1 1 0 0 2 2 0 1 0 1 0 2 3\n",
            " 3 2 0 1 3 0 0 3 1 1 3 2 1 3 1 0 2 2 0 0 2 0 3 0 0 3 2 2 1 0 3 2 2 3 3 3 1\n",
            " 1 1 0 1 2 0 0 1 0 1 1 0 3 0 3 0 3 1 1 3 3 1 3 2 1 1 2 0 2 1 2 0 3 0 0 0 0\n",
            " 1 3 0 3 1 1 2 3 3 0 0 2 2 3 0 3 3 1 3 0 3 1 2 2 2 3 1 3 0 1 1 0 0 3 1 0 2\n",
            " 3 0 2 2 0 1 3 3 3 0 0 3 2 2 0 0 2 3 2 3 1 1 1 3 3 1 0 2 2 2 0 3 2 3 3 1 3\n",
            " 1 3 3 2 1 1 2 1 0 0 0 2 3 2 3 3 2 2 1 3 3 1 0 0 2 3 2 0 0 2 0 3 2 0 0 3 1\n",
            " 2 1 0 1 0 2 1 3 3 2 2 3 1 2 1 1 2 1 0 2 2 3 3 0 0 3 3 0 0 1 3 3 2 3 0 0 1\n",
            " 2 1 0 1 3 1 2 1 1 0 0 3 3 3 3 2 3 0 0 1 0 3 3 0 3 2 2 3 0 2 0 2 0 3 3 1 0\n",
            " 0 3 1 1 3 1 0 0 2 0 1 1 1 0 3 2 0 0 0 2 0 0 3 3 0 2 0 2 2 2 3 0 0 2 3 0 1\n",
            " 3 2 2 2 1 0 1 2 1 1 2 0 0 1 0 3 0 0 0 3 3 3 0 0 2 0 1 2 3 2 2 2 3 1 2 2 2\n",
            " 2 0 1 2 3 0 2 1 1 0 1 2 3 0 3 2 1 1 0 0 1 0 3 1 2 3 3 0 2 0 1 0 0 3 1 3 1\n",
            " 2 2 2 1 2 0 3 3 3 1 0 0 0 3 1 3 3 3 3 0 3 0 0 1 0 2 0 2 2 1 0 1 2 0 2 2 1\n",
            " 1 1 2 3 1 3 3 1 3 0 1 0 3 2 2 1 2 1 3 1 3 0 3 0 3 0 0 2 2 1 3 2 0 2 3]\n"
          ]
        }
      ]
    },
    {
      "cell_type": "code",
      "metadata": {
        "colab": {
          "base_uri": "https://localhost:8080/",
          "height": 231
        },
        "id": "I8khXvnK2gud",
        "outputId": "5fc63951-7a56-4bd8-c016-b5e50116f8a3"
      },
      "source": [
        "import tensorflow as tf\n",
        "from sklearn.metrics import confusion_matrix\n",
        "cm=tf.math.confusion_matrix(new_Y_test,predicted_classes)\n",
        "import seaborn as sns\n",
        "# Make predictions\n",
        "#y_pred = model.predict(X_test)\n",
        "\n",
        "# Build confusion metrics\n",
        "#cm = confusion_matrix(y_true=Y_test, y_pred=predicted_classes)\n",
        "#print(cm)\n",
        "\n",
        "# Plot confusion matrix in a beautiful manner\n",
        "ax= plt.subplot()\n",
        "sns.heatmap(cm, annot=True, ax = ax, fmt = 'g'); #annot=True to annotate cells\n",
        "# labels, title and ticks\n",
        "ax.set_xlabel('Predicted', fontsize=20)\n",
        "ax.xaxis.set_label_position('top') \n",
        "#ax.xaxis.set_ticklabels(['ham', 'spam'], fontsize = 15)\n",
        "ax.xaxis.tick_top()\n",
        "\n",
        "ax.set_ylabel('True', fontsize=20)\n",
        "#ax.yaxis.set_ticklabels(['spam', 'ham'], fontsize = 15)\n",
        "plt.show()\n",
        "\n"
      ],
      "execution_count": null,
      "outputs": [
        {
          "output_type": "error",
          "ename": "NameError",
          "evalue": "ignored",
          "traceback": [
            "\u001b[0;31m---------------------------------------------------------------------------\u001b[0m",
            "\u001b[0;31mNameError\u001b[0m                                 Traceback (most recent call last)",
            "\u001b[0;32m<ipython-input-1-a0f5f21b76ee>\u001b[0m in \u001b[0;36m<module>\u001b[0;34m()\u001b[0m\n\u001b[1;32m      1\u001b[0m \u001b[0;32mimport\u001b[0m \u001b[0mtensorflow\u001b[0m \u001b[0;32mas\u001b[0m \u001b[0mtf\u001b[0m\u001b[0;34m\u001b[0m\u001b[0;34m\u001b[0m\u001b[0m\n\u001b[1;32m      2\u001b[0m \u001b[0;32mfrom\u001b[0m \u001b[0msklearn\u001b[0m\u001b[0;34m.\u001b[0m\u001b[0mmetrics\u001b[0m \u001b[0;32mimport\u001b[0m \u001b[0mconfusion_matrix\u001b[0m\u001b[0;34m\u001b[0m\u001b[0;34m\u001b[0m\u001b[0m\n\u001b[0;32m----> 3\u001b[0;31m \u001b[0mcm\u001b[0m\u001b[0;34m=\u001b[0m\u001b[0mtf\u001b[0m\u001b[0;34m.\u001b[0m\u001b[0mmath\u001b[0m\u001b[0;34m.\u001b[0m\u001b[0mconfusion_matrix\u001b[0m\u001b[0;34m(\u001b[0m\u001b[0mnew_Y_test\u001b[0m\u001b[0;34m,\u001b[0m\u001b[0mpredicted_classes\u001b[0m\u001b[0;34m)\u001b[0m\u001b[0;34m\u001b[0m\u001b[0;34m\u001b[0m\u001b[0m\n\u001b[0m\u001b[1;32m      4\u001b[0m \u001b[0;32mimport\u001b[0m \u001b[0mseaborn\u001b[0m \u001b[0;32mas\u001b[0m \u001b[0msns\u001b[0m\u001b[0;34m\u001b[0m\u001b[0;34m\u001b[0m\u001b[0m\n\u001b[1;32m      5\u001b[0m \u001b[0;31m# Make predictions\u001b[0m\u001b[0;34m\u001b[0m\u001b[0;34m\u001b[0m\u001b[0;34m\u001b[0m\u001b[0m\n",
            "\u001b[0;31mNameError\u001b[0m: name 'new_Y_test' is not defined"
          ]
        }
      ]
    },
    {
      "cell_type": "code",
      "metadata": {
        "id": "O-utvSGCkBCq"
      },
      "source": [
        "plt.figure()\n",
        "for i, correct in enumerate(correct_indices[:9]):\n",
        "    plt.subplot(3,3,i+1)\n",
        "    plt.imshow(X_test[correct].reshape(28,28), cmap='gray', interpolation='none')\n",
        "    plt.title(\"Predicted {}, Class {}\".format(predicted_classes[correct], y_test[correct]))\n",
        "    \n",
        "plt.tight_layout()\n",
        "    \n",
        "plt.figure(figsize=(10,10))\n",
        "for i, incorrect in enumerate(incorrect_indices[:9]):\n",
        "    plt.subplot(3,3,i+1)\n",
        "    plt.imshow(X_test[incorrect].reshape(28,28), cmap='gray', interpolation='none')\n",
        "    plt.title(\"Predicted {}, Class {}\".format(predicted_classes[incorrect], y_test[incorrect]))\n",
        "    \n",
        "plt.tight_layout()"
      ],
      "execution_count": null,
      "outputs": []
    },
    {
      "cell_type": "markdown",
      "metadata": {
        "id": "AxmMFaWYkBCr"
      },
      "source": [
        "# Trying experimenting with the batch size!\n",
        "\n",
        "#### How does increasing the batch size to 10,000 affect the training time and test accuracy?\n",
        "\n",
        "#### How about a batch size of 32?"
      ]
    },
    {
      "cell_type": "markdown",
      "metadata": {
        "id": "18SiEFQNkBCs"
      },
      "source": [
        "# Introducing Convolution! What is it?"
      ]
    },
    {
      "cell_type": "markdown",
      "metadata": {
        "id": "MbCiH0opkBCs"
      },
      "source": [
        "Before, we built a network that accepts the normalized pixel values of each value and operates soley on those values. What if we could instead feed different features (e.g. **curvature, edges**) of each image into a network, and have the network learn which features are important for classifying an image?\n",
        "\n",
        "This possible through convolution! Convolution applies **kernels** (filters) that traverse through each image and generate **feature maps**."
      ]
    },
    {
      "cell_type": "markdown",
      "metadata": {
        "id": "Qb-YSlt1kBCt"
      },
      "source": [
        "<img src = 'convolution.gif' >"
      ]
    },
    {
      "cell_type": "markdown",
      "metadata": {
        "id": "btQ6JHXwkBCt"
      },
      "source": [
        "In the above example, the image is a 5 x 5 matrix and the kernel going over it is a 3 x 3 matrix. A dot product operation takes place between the image and the kernel and the convolved feature is generated. Each kernel in a CNN learns a different characteristic of an image.\n",
        "\n",
        "Kernels are often used in photoediting software to apply blurring, edge detection, sharpening, etc."
      ]
    },
    {
      "cell_type": "markdown",
      "metadata": {
        "id": "Ty-2gtBYkBCu"
      },
      "source": [
        "<img src = 'kernels.png' >"
      ]
    },
    {
      "cell_type": "markdown",
      "metadata": {
        "id": "8QcBCCD0kBCu"
      },
      "source": [
        "Kernels in deep learning networks are used in similar ways, i.e. highlighting some feature. Combined with a system called **max pooling**, the non-highlighted elements are discarded from each feature map, leaving only the features of interest, reducing the number of learned parameters, and decreasing the computational cost (e.g. system memory)."
      ]
    },
    {
      "cell_type": "markdown",
      "metadata": {
        "id": "u8JnjOkCkBCv"
      },
      "source": [
        "<img src = 'max_pooling.png' >"
      ]
    },
    {
      "cell_type": "markdown",
      "metadata": {
        "id": "U6ok4tBIkBCv"
      },
      "source": [
        "We can also take convolutions of convolutions -- we can stack as many convolutions as we want, as long as there are enough pixels to fit a kernel.\n",
        "\n",
        "*Warning: What you may find down there in those deep convolutions may not appear recognizable to you.*"
      ]
    },
    {
      "cell_type": "markdown",
      "metadata": {
        "id": "1shQjrDtkBCw"
      },
      "source": [
        "<img src = 'go_deeper.jpg' >"
      ]
    },
    {
      "cell_type": "markdown",
      "metadata": {
        "id": "AZ-4eVNLkBCw"
      },
      "source": [
        "## Building a \"Deep\" Convolutional Neural Network"
      ]
    },
    {
      "cell_type": "code",
      "metadata": {
        "collapsed": true,
        "id": "soFRmRU3kBCx"
      },
      "source": [
        "# import some additional tools\n",
        "\n",
        "from keras.preprocessing.image import ImageDataGenerator\n",
        "from keras.layers import Conv2D, MaxPooling2D, ZeroPadding2D, GlobalAveragePooling2D, Flatten\n",
        "from keras.layers.normalization import BatchNormalization"
      ],
      "execution_count": null,
      "outputs": []
    },
    {
      "cell_type": "code",
      "metadata": {
        "collapsed": true,
        "id": "tcNTSLHFkBCx"
      },
      "source": [
        "# Reload the MNIST data\n",
        "(X_train, y_train), (X_test, y_test) = mnist.load_data()"
      ],
      "execution_count": null,
      "outputs": []
    },
    {
      "cell_type": "code",
      "metadata": {
        "id": "UemAAoLekBCy"
      },
      "source": [
        "# Again, do some formatting\n",
        "# Except we do not flatten each image into a 784-length vector because we want to perform convolutions first\n",
        "\n",
        "X_train = X_train.reshape(60000, 28, 28, 1) #add an additional dimension to represent the single-channel\n",
        "X_test = X_test.reshape(10000, 28, 28, 1)\n",
        "\n",
        "X_train = X_train.astype('float32')         # change integers to 32-bit floating point numbers\n",
        "X_test = X_test.astype('float32')\n",
        "\n",
        "X_train /= 255                              # normalize each value for each pixel for the entire vector for each input\n",
        "X_test /= 255\n",
        "\n",
        "print(\"Training matrix shape\", X_train.shape)\n",
        "print(\"Testing matrix shape\", X_test.shape)"
      ],
      "execution_count": null,
      "outputs": []
    },
    {
      "cell_type": "code",
      "metadata": {
        "collapsed": true,
        "id": "1UM9BnpgkBCy"
      },
      "source": [
        "# one-hot format classes\n",
        "\n",
        "nb_classes = 10 # number of unique digits\n",
        "\n",
        "Y_train = np_utils.to_categorical(y_train, nb_classes)\n",
        "Y_test = np_utils.to_categorical(y_test, nb_classes)"
      ],
      "execution_count": null,
      "outputs": []
    },
    {
      "cell_type": "code",
      "metadata": {
        "collapsed": true,
        "id": "94Dgwog_kBCz"
      },
      "source": [
        "model = Sequential()                                 # Linear stacking of layers\n",
        "\n",
        "# Convolution Layer 1\n",
        "model.add(Conv2D(32, (3, 3), input_shape=(28,28,1))) # 32 different 3x3 kernels -- so 32 feature maps\n",
        "model.add(BatchNormalization(axis=-1))               # normalize each feature map before activation\n",
        "convLayer01 = Activation('relu')                     # activation\n",
        "model.add(convLayer01)\n",
        "\n",
        "# Convolution Layer 2\n",
        "model.add(Conv2D(32, (3, 3)))                        # 32 different 3x3 kernels -- so 32 feature maps\n",
        "model.add(BatchNormalization(axis=-1))               # normalize each feature map before activation\n",
        "model.add(Activation('relu'))                        # activation\n",
        "convLayer02 = MaxPooling2D(pool_size=(2,2))          # Pool the max values over a 2x2 kernel\n",
        "model.add(convLayer02)\n",
        "\n",
        "# Convolution Layer 3\n",
        "model.add(Conv2D(64,(3, 3)))                         # 64 different 3x3 kernels -- so 64 feature maps\n",
        "model.add(BatchNormalization(axis=-1))               # normalize each feature map before activation\n",
        "convLayer03 = Activation('relu')                     # activation\n",
        "model.add(convLayer03)\n",
        "\n",
        "# Convolution Layer 4\n",
        "model.add(Conv2D(64, (3, 3)))                        # 64 different 3x3 kernels -- so 64 feature maps\n",
        "model.add(BatchNormalization(axis=-1))               # normalize each feature map before activation\n",
        "model.add(Activation('relu'))                        # activation\n",
        "convLayer04 = MaxPooling2D(pool_size=(2,2))          # Pool the max values over a 2x2 kernel\n",
        "model.add(convLayer04)\n",
        "model.add(Flatten())                                 # Flatten final 4x4x64 output matrix into a 1024-length vector\n",
        "\n",
        "# Fully Connected Layer 5\n",
        "model.add(Dense(512))                                # 512 FCN nodes\n",
        "model.add(BatchNormalization())                      # normalization\n",
        "model.add(Activation('relu'))                        # activation\n",
        "\n",
        "# Fully Connected Layer 6                       \n",
        "model.add(Dropout(0.2))                              # 20% dropout of randomly selected nodes\n",
        "model.add(Dense(10))                                 # final 10 FCN nodes\n",
        "model.add(Activation('softmax'))                     # softmax activation"
      ],
      "execution_count": null,
      "outputs": []
    },
    {
      "cell_type": "code",
      "metadata": {
        "id": "iMu5KwfdkBC6"
      },
      "source": [
        "model.summary()"
      ],
      "execution_count": null,
      "outputs": []
    },
    {
      "cell_type": "code",
      "metadata": {
        "collapsed": true,
        "id": "cOhqdkHikBC6"
      },
      "source": [
        "# we'll use the same optimizer\n",
        "\n",
        "model.compile(loss='categorical_crossentropy', optimizer='adam', metrics=['accuracy'])"
      ],
      "execution_count": null,
      "outputs": []
    },
    {
      "cell_type": "code",
      "metadata": {
        "collapsed": true,
        "id": "7Ahek8lfkBC7"
      },
      "source": [
        "# data augmentation prevents overfitting by slightly changing the data randomly\n",
        "# Keras has a great built-in feature to do automatic augmentation\n",
        "\n",
        "gen = ImageDataGenerator(rotation_range=8, width_shift_range=0.08, shear_range=0.3,\n",
        "                         height_shift_range=0.08, zoom_range=0.08)\n",
        "\n",
        "test_gen = ImageDataGenerator()"
      ],
      "execution_count": null,
      "outputs": []
    },
    {
      "cell_type": "code",
      "metadata": {
        "collapsed": true,
        "id": "byj0cFkRkBC8"
      },
      "source": [
        "# We can then feed our augmented data in batches\n",
        "# Besides loss function considerations as before, this method actually results in significant memory savings\n",
        "# because we are actually LOADING the data into the network in batches before processing each batch\n",
        "\n",
        "# Before the data was all loaded into memory, but then processed in batches.\n",
        "\n",
        "train_generator = gen.flow(X_train, Y_train, batch_size=128)\n",
        "test_generator = test_gen.flow(X_test, Y_test, batch_size=128)"
      ],
      "execution_count": null,
      "outputs": []
    },
    {
      "cell_type": "code",
      "metadata": {
        "id": "duZciE5wkBC8"
      },
      "source": [
        "# We can now train our model which is fed data by our batch loader\n",
        "# Steps per epoch should always be total size of the set divided by the batch size\n",
        "\n",
        "# SIGNIFICANT MEMORY SAVINGS (important for larger, deeper networks)\n",
        "\n",
        "model.fit_generator(train_generator, steps_per_epoch=60000//128, epochs=5, verbose=1, \n",
        "                    validation_data=test_generator, validation_steps=10000//128)"
      ],
      "execution_count": null,
      "outputs": []
    },
    {
      "cell_type": "code",
      "metadata": {
        "id": "kQ5xaWcqkBC9"
      },
      "source": [
        "score = model.evaluate(X_test, Y_test)\n",
        "print('Test score:', score[0])\n",
        "print('Test accuracy:', score[1])"
      ],
      "execution_count": null,
      "outputs": []
    },
    {
      "cell_type": "markdown",
      "metadata": {
        "id": "RuGmlm0KkBC9"
      },
      "source": [
        "## Great results! \n",
        "\n",
        "But wouldn't it be nice if we could visualize those convolutions so that we can see what the model is seeing?"
      ]
    },
    {
      "cell_type": "code",
      "metadata": {
        "collapsed": true,
        "id": "XCNNjoJWkBC-"
      },
      "source": [
        "from keras import backend as K\n",
        "\n",
        "# choose any image to want by specifying the index\n",
        "img = X_test[3]\n",
        "img = np.expand_dims(img, axis=0) # Keras requires the image to be in 4D, so we add an extra dimension to it.\n",
        "\n",
        "# Not important to understand how this function work -- It just plots a convolution layer\n",
        "\n",
        "def visualize(layer):\n",
        "    inputs = [K.learning_phase()] + model.inputs\n",
        "    \n",
        "    _convout1_f = K.function(inputs, [layer.output])\n",
        "    \n",
        "    def convout1_f(X):\n",
        "        # The [0] is to disable the training phase flag\n",
        "        return _convout1_f([0] + [X])\n",
        "\n",
        "    convolutions = convout1_f(img)\n",
        "    convolutions = np.squeeze(convolutions)\n",
        "\n",
        "    print ('Shape of conv:', convolutions.shape)\n",
        "    \n",
        "    m = convolutions.shape[2]\n",
        "    n = int(np.ceil(np.sqrt(m)))\n",
        "    \n",
        "    # Visualization of each filter of the layer\n",
        "    fig = plt.figure(figsize=(15,12))\n",
        "    for i in range(m):\n",
        "        ax = fig.add_subplot(n,n,i+1)\n",
        "        ax.imshow(convolutions[:,:,i], cmap='gray')\n"
      ],
      "execution_count": null,
      "outputs": []
    },
    {
      "cell_type": "code",
      "metadata": {
        "id": "XcympEvUkBC_"
      },
      "source": [
        "plt.figure()\n",
        "plt.imshow(X_test[3].reshape(28,28), cmap='gray', interpolation='none')"
      ],
      "execution_count": null,
      "outputs": []
    },
    {
      "cell_type": "code",
      "metadata": {
        "id": "eSOrdgyTkBC_"
      },
      "source": [
        "visualize(convLayer01) # visualize first set of feature maps"
      ],
      "execution_count": null,
      "outputs": []
    },
    {
      "cell_type": "code",
      "metadata": {
        "id": "7Tp2YwnmkBDA"
      },
      "source": [
        "visualize(convLayer02) # visualize second set of feature maps"
      ],
      "execution_count": null,
      "outputs": []
    },
    {
      "cell_type": "code",
      "metadata": {
        "id": "VHWCG679kBDA"
      },
      "source": [
        "visualize(convLayer03)# visualize third set of feature maps"
      ],
      "execution_count": null,
      "outputs": []
    },
    {
      "cell_type": "code",
      "metadata": {
        "id": "KWnQ6da7kBDB"
      },
      "source": [
        "visualize(convLayer04)# visualize fourth set of feature maps"
      ],
      "execution_count": null,
      "outputs": []
    },
    {
      "cell_type": "markdown",
      "metadata": {
        "id": "XC9w8poFkBDB"
      },
      "source": [
        "#### For a 3D visualization of a very similar network, visit http://scs.ryerson.ca/~aharley/vis/conv/"
      ]
    },
    {
      "cell_type": "code",
      "metadata": {
        "id": "HRbTVPZTkcW6"
      },
      "source": [
        "a=1\n"
      ],
      "execution_count": null,
      "outputs": []
    }
  ]
}